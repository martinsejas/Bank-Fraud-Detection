{
  "cells": [
    {
      "attachments": {},
      "cell_type": "markdown",
      "metadata": {
        "id": "SgfZzLuI5obx"
      },
      "source": [
        "This notebook has been created by SEJAS Martin."
      ]
    },
    {
      "cell_type": "markdown",
      "metadata": {
        "id": "zL2yL1yb5obz"
      },
      "source": [
        "# Step 0: Analyzing Dataset"
      ]
    },
    {
      "cell_type": "code",
      "execution_count": null,
      "metadata": {
        "id": "ejBiafp-5ob0"
      },
      "outputs": [],
      "source": [
        "# Importing necessary packages\n",
        "import os \n",
        "import random\n",
        "import numpy as np\n",
        "import pandas as pd\n",
        "import matplotlib.pyplot as plt\n",
        "import sklearn\n",
        "import tensorflow as tf\n",
        "import keras\n",
        "\n",
        "\n",
        "from keras.backend import mean\n",
        "from sklearn.metrics import mean_squared_error\n",
        "\n"
      ]
    },
    {
      "cell_type": "markdown",
      "metadata": {
        "id": "rebt42k85ob1"
      },
      "source": [
        "**Dataset**\n",
        "\n",
        "The dataset for this project is a bank fraud dataset in csv format with nearly ~600k rows with 9 features and 1 target. \n",
        "\n",
        "The features are: \n",
        "- *Customer*: A Customer unique identifier\n",
        "</br>\n",
        "</br>\n",
        "- *Age*: Age Category of the customer in ranges with the following classes.\n",
        "<p align=\"center\">\n",
        "</br>\n",
        "\t'0': <span width=\"15px\"></span> <=18\n",
        "</br>\n",
        "</br>\n",
        "\t'1':  19-25\n",
        "</br>\n",
        "</br>\n",
        "\t'2':  26-35\n",
        "</br>\n",
        "</br>\n",
        "\t'3':  36-45\n",
        "</br>\n",
        "</br>\n",
        "\t'4':  46-55\n",
        "</br>\n",
        "</br>\n",
        "\t'5':  56-65\n",
        "</br>\n",
        "</br>\n",
        "\t'6':  >65\n",
        "</br>\n",
        "</br>\n",
        "\tU: Unknown\n",
        "</br>\n",
        "\n",
        "</p>\n",
        "\n",
        "- *gender*: Gender of the customer \n",
        "</br>\n",
        "</br>\n",
        "<p align=\"center\">\n",
        "    E: Entreprise\n",
        "\t</br>\n",
        "\t</br>\n",
        "\tF: Female\n",
        "\t</br>\n",
        "\t</br>\n",
        "\tM: Male\n",
        "\t</br>\n",
        "\t</br>\n",
        "\tU: Unknown\n",
        "\t</br>\n",
        "\t</br>\n",
        "\n",
        "</p>\n",
        "\n",
        "- *zipcodeOri*: The zipcode the request is originating from.\n",
        "\n",
        "- *merchant*: Id of the merchant\n",
        "\n",
        "- *category*: Nature of the transaction\n",
        "<p align=\"center\">\n",
        "</br>\n",
        "</br>\n",
        "\t'es_transportation': Transport transaction\n",
        "</br>\n",
        "</br>\n",
        "\t'es_food': Food transaction\n",
        "</br>\n",
        "</br>\n",
        "\t'es_health': Health transaction\n",
        "</br>\n",
        "</br>\n",
        "\t'es_wellnessandbeauty': Wellness and beauty transaction\n",
        "</br>\n",
        "</br>\n",
        "\t'es_fashion': Fashion transaction\n",
        "</br>\n",
        "</br>\n",
        "</p>\n",
        "\n",
        "- *zipMerchant*: zipcode of the merchant\n",
        "\n",
        "- *amount*: Price\n",
        "\n",
        "The target is *fraud*:\n",
        "<p align=\"center\">\n",
        "</br>\n",
        "</br>\n",
        "\t 0: not a fraud\n",
        "</br>\n",
        "</br>\n",
        "\t 1: fraud\n",
        "</p>\n",
        "\n",
        "\n",
        "\n",
        "Hence this is a binary classification problem\n",
        "\n",
        "\n"
      ]
    },
    {
      "cell_type": "markdown",
      "metadata": {
        "id": "m5fwioCA5ob3"
      },
      "source": [
        "# Step 1: Preprocessing"
      ]
    },
    {
      "cell_type": "markdown",
      "metadata": {
        "id": "yC6HdjaS5ob3"
      },
      "source": [
        "Visualizing the dataset"
      ]
    },
    {
      "cell_type": "code",
      "execution_count": null,
      "metadata": {
        "colab": {
          "base_uri": "https://localhost:8080/"
        },
        "id": "nJhav7Xf5ob3",
        "outputId": "48627fb5-1edd-4433-deb7-58caf258d8de"
      },
      "outputs": [
        {
          "name": "stdout",
          "output_type": "stream",
          "text": [
            "(594643, 10)\n",
            "   step       customer  age gender zipcodeOri       merchant zipMerchant  \\\n",
            "0     0  'C1093826151'  '4'    'M'    '28007'   'M348934600'     '28007'   \n",
            "1     0   'C352968107'  '2'    'M'    '28007'   'M348934600'     '28007'   \n",
            "2     0  'C2054744914'  '4'    'F'    '28007'  'M1823072687'     '28007'   \n",
            "3     0  'C1760612790'  '3'    'M'    '28007'   'M348934600'     '28007'   \n",
            "4     0   'C757503768'  '5'    'M'    '28007'   'M348934600'     '28007'   \n",
            "\n",
            "              category  amount  fraud  \n",
            "0  'es_transportation'    4.55      0  \n",
            "1  'es_transportation'   39.68      0  \n",
            "2  'es_transportation'   26.89      0  \n",
            "3  'es_transportation'   17.25      0  \n",
            "4  'es_transportation'   35.72      0  \n"
          ]
        }
      ],
      "source": [
        "# Loading the dataset into bf (bankfrauds) variable. Then, i wanna see its shape and the first 5 rows\n",
        "bf = pd.read_csv('bank_frauds.csv')\n",
        "print(bf.shape) \n",
        "print(bf.head())\n"
      ]
    },
    {
      "cell_type": "markdown",
      "metadata": {
        "id": "BJvo2WKx5ob5"
      },
      "source": [
        "Before building a neural network, we need to preprocess the data to make it suitable for deep learning.\n",
        "\n",
        "Let's start with checking for missing values."
      ]
    },
    {
      "cell_type": "code",
      "execution_count": null,
      "metadata": {
        "colab": {
          "base_uri": "https://localhost:8080/"
        },
        "id": "ovHZp-DL5ob6",
        "outputId": "d3ca7a25-a041-4544-8957-c68991aebd75"
      },
      "outputs": [
        {
          "name": "stdout",
          "output_type": "stream",
          "text": [
            "<class 'pandas.core.frame.DataFrame'>\n",
            "RangeIndex: 594643 entries, 0 to 594642\n",
            "Data columns (total 10 columns):\n",
            " #   Column       Non-Null Count   Dtype  \n",
            "---  ------       --------------   -----  \n",
            " 0   step         594643 non-null  int64  \n",
            " 1   customer     594643 non-null  object \n",
            " 2   age          594643 non-null  object \n",
            " 3   gender       594643 non-null  object \n",
            " 4   zipcodeOri   594643 non-null  object \n",
            " 5   merchant     594643 non-null  object \n",
            " 6   zipMerchant  594643 non-null  object \n",
            " 7   category     594643 non-null  object \n",
            " 8   amount       594643 non-null  float64\n",
            " 9   fraud        594643 non-null  int64  \n",
            "dtypes: float64(1), int64(2), object(7)\n",
            "memory usage: 45.4+ MB\n",
            "-------------------------\n"
          ]
        },
        {
          "data": {
            "text/plain": [
              "step           False\n",
              "customer       False\n",
              "age            False\n",
              "gender         False\n",
              "zipcodeOri     False\n",
              "merchant       False\n",
              "zipMerchant    False\n",
              "category       False\n",
              "amount         False\n",
              "fraud          False\n",
              "dtype: bool"
            ]
          },
          "execution_count": 3,
          "metadata": {},
          "output_type": "execute_result"
        }
      ],
      "source": [
        "bf.info()\n",
        "print('-------------------------')\n",
        "bf.isna().any()\n",
        "\n",
        "    "
      ]
    },
    {
      "cell_type": "markdown",
      "metadata": {
        "id": "rZyTsZL95ob6"
      },
      "source": [
        "We can see that the range is 594643, and there is no Non-Null values (in the column of the count). \n",
        "\n",
        "So there is no need to deal with NaN datatypes in this dataset, it is already complete. This will save us some pre-processing time.\n",
        "\n",
        "We can also perform some basic feature selection by checking the unique values per feature."
      ]
    },
    {
      "cell_type": "code",
      "execution_count": null,
      "metadata": {
        "colab": {
          "base_uri": "https://localhost:8080/"
        },
        "id": "y5wE1E0s5ob6",
        "outputId": "6f1ce051-2072-46e0-9e6b-8ccffd006ea4"
      },
      "outputs": [
        {
          "name": "stdout",
          "output_type": "stream",
          "text": [
            "Unique values per feature + (target).\n",
            "-------------------------\n",
            "step : 180\n",
            "customer : 4112\n",
            "age : 8\n",
            "gender : 4\n",
            "zipcodeOri : 1\n",
            "merchant : 50\n",
            "zipMerchant : 1\n",
            "category : 15\n",
            "amount : 23767\n",
            "fraud : 2\n"
          ]
        }
      ],
      "source": [
        "print('Unique values per feature + (target).')\n",
        "print('-------------------------')\n",
        "for col in bf.columns:\n",
        "    print(col,\":\", len(bf[col].unique()))"
      ]
    },
    {
      "cell_type": "markdown",
      "metadata": {
        "id": "eGtWjsaC5ob7"
      },
      "source": [
        "As you can see, *zipcodeOri* and *zipMerchant* only have **one** value for all instances, making it a redundant feature in our model. \n",
        "\n",
        "The *step* feature also does not have any relevant impact on fraud detection.\n",
        "\n",
        "*Indicating all these features can later be dropped.*"
      ]
    },
    {
      "cell_type": "markdown",
      "metadata": {
        "id": "YR2IsVWP5ob7"
      },
      "source": [
        "On the 'Age' column, we have the 'Unknown' class which is not desirable for our model, as it is unreliable data. We have to check the proportion of this class in our dataset, to see if removing it is a viable option."
      ]
    },
    {
      "cell_type": "code",
      "execution_count": null,
      "metadata": {
        "colab": {
          "base_uri": "https://localhost:8080/"
        },
        "id": "-KonGzu-5ob8",
        "outputId": "85ca4c49-7279-4687-a150-d0c08628c2dd"
      },
      "outputs": [
        {
          "name": "stdout",
          "output_type": "stream",
          "text": [
            "Unknown age cases: 1178 ( 0.2 %)\n"
          ]
        }
      ],
      "source": [
        "age_unknown = bf.loc[bf.age == \"'U'\"] \n",
        "\n",
        "print('Unknown age cases:', len(age_unknown), '(', round(len(age_unknown)/len(bf) * 100,2), '%)')\n",
        "\n",
        "\n"
      ]
    },
    {
      "cell_type": "markdown",
      "metadata": {
        "id": "Lwnkuhny5ob8"
      },
      "source": [
        "Since the unknown age cases represent only 0.2% of our dataset we will remove it."
      ]
    },
    {
      "cell_type": "markdown",
      "metadata": {
        "id": "bdFQtKxT5ob8"
      },
      "source": [
        "Now we want to check how our data set is balanced, we will analyze the ratio of frauds to non-frauds in our dataset, since this is the target value."
      ]
    },
    {
      "cell_type": "code",
      "execution_count": null,
      "metadata": {
        "colab": {
          "base_uri": "https://localhost:8080/"
        },
        "id": "1KVVP4bI5ob8",
        "outputId": "731b69fe-e373-4145-f3c1-8ae9ba222bef"
      },
      "outputs": [
        {
          "name": "stdout",
          "output_type": "stream",
          "text": [
            "Fraud cases: 7200 ( 1.21 %)\n",
            "Not fraud cases: 587443 ( 98.79 %)\n"
          ]
        }
      ],
      "source": [
        "data_fraud = bf.loc[bf.fraud == 1] \n",
        "data_not_fraud = bf.loc[bf.fraud == 0]\n",
        "\n",
        "print('Fraud cases:', len(data_fraud), '(', round(len(data_fraud)/len(bf) * 100,2), '%)')\n",
        "print('Not fraud cases:',len(data_not_fraud), '(', round(len(data_not_fraud)/len(bf) * 100,2), '%)')"
      ]
    },
    {
      "cell_type": "markdown",
      "metadata": {
        "id": "r_GPnXIw5ob9"
      },
      "source": [
        "As shown above, we have a highly unbalanced dataset which can offset our metrics. This is an issue because a model that will predict all instances as 'Not fraud' will technically have an accuracy of nearly 99%, hence we have to take measures to address this unbalanced dataset problem.\n",
        "\n",
        "We are going to use *stratification* to address this problem:\n",
        "\n",
        "*Stratification*: Involves splitting the dataset into training and validation sets while ensuring that the proportion of classes is maintained in both sets. This can help prevent the model from being biased towards the majority class during training.\n",
        "\n",
        "<br>\n"
      ]
    },
    {
      "cell_type": "markdown",
      "metadata": {
        "id": "SOARfeLc5ob9"
      },
      "source": [
        "We also want to investigate the frauds per category any minority classes."
      ]
    },
    {
      "cell_type": "code",
      "execution_count": null,
      "metadata": {
        "colab": {
          "base_uri": "https://localhost:8080/"
        },
        "id": "MAvGXq155ob9",
        "outputId": "06484fa0-920c-4d1d-c656-12f7de0ea4f2"
      },
      "outputs": [
        {
          "name": "stdout",
          "output_type": "stream",
          "text": [
            "category\n",
            "'es_barsandrestaurants'     120\n",
            "'es_fashion'                116\n",
            "'es_health'                1696\n",
            "'es_home'                   302\n",
            "'es_hotelservices'          548\n",
            "'es_hyper'                  280\n",
            "'es_leisure'                474\n",
            "'es_otherservices'          228\n",
            "'es_sportsandtoys'         1982\n",
            "'es_tech'                   158\n",
            "'es_travel'                 578\n",
            "'es_wellnessandbeauty'      718\n",
            "dtype: int64\n"
          ]
        }
      ],
      "source": [
        "#number of fraud per category\n",
        "print(data_fraud.groupby('category').size())\n"
      ]
    },
    {
      "cell_type": "markdown",
      "metadata": {
        "id": "3kyxn0It5ob-"
      },
      "source": [
        "We can see it is also unbalanced depending on the transaction category, with classes like 'es_sportsandtoys' being over-represented compared to others, such as 'es_fashion', where there are 10x more instances of the former. \n",
        "\n",
        "Adopting this column into our stratification strategy may be useful. For now we want a general purpose model, and will not stratify this feature.\n",
        "\n",
        "\n",
        "<br>\n",
        "<hr>"
      ]
    },
    {
      "cell_type": "markdown",
      "metadata": {
        "id": "6XWeFZYl5ob-"
      },
      "source": [
        "As mentioned above, we can perform feature selection by dropping the columns that are not useful for the study and convert categorical variables into numerical ones by using encoding techniques.\n",
        "\n",
        "\n",
        "Additionally, some other pre-processing formatting is needed such as removing the ' ' characters from the column row values."
      ]
    },
    {
      "cell_type": "markdown",
      "metadata": {
        "id": "UnAStYw_5ob-"
      },
      "source": [
        "Dropping previously unnecessary features"
      ]
    },
    {
      "cell_type": "code",
      "execution_count": null,
      "metadata": {
        "colab": {
          "base_uri": "https://localhost:8080/"
        },
        "id": "9i8Ecj4l5ob_",
        "outputId": "417ee186-3413-45a0-f7d7-b56a8023ba39"
      },
      "outputs": [
        {
          "data": {
            "text/html": [
              "\n",
              "  <div id=\"df-81ca8a37-db0d-47e2-adba-49a676d6e421\">\n",
              "    <div class=\"colab-df-container\">\n",
              "      <div>\n",
              "<style scoped>\n",
              "    .dataframe tbody tr th:only-of-type {\n",
              "        vertical-align: middle;\n",
              "    }\n",
              "\n",
              "    .dataframe tbody tr th {\n",
              "        vertical-align: top;\n",
              "    }\n",
              "\n",
              "    .dataframe thead th {\n",
              "        text-align: right;\n",
              "    }\n",
              "</style>\n",
              "<table border=\"1\" class=\"dataframe\">\n",
              "  <thead>\n",
              "    <tr style=\"text-align: right;\">\n",
              "      <th></th>\n",
              "      <th>customer</th>\n",
              "      <th>age</th>\n",
              "      <th>gender</th>\n",
              "      <th>merchant</th>\n",
              "      <th>category</th>\n",
              "      <th>amount</th>\n",
              "      <th>fraud</th>\n",
              "    </tr>\n",
              "  </thead>\n",
              "  <tbody>\n",
              "    <tr>\n",
              "      <th>0</th>\n",
              "      <td>'C1093826151'</td>\n",
              "      <td>'4'</td>\n",
              "      <td>'M'</td>\n",
              "      <td>'M348934600'</td>\n",
              "      <td>'es_transportation'</td>\n",
              "      <td>4.55</td>\n",
              "      <td>0</td>\n",
              "    </tr>\n",
              "    <tr>\n",
              "      <th>1</th>\n",
              "      <td>'C352968107'</td>\n",
              "      <td>'2'</td>\n",
              "      <td>'M'</td>\n",
              "      <td>'M348934600'</td>\n",
              "      <td>'es_transportation'</td>\n",
              "      <td>39.68</td>\n",
              "      <td>0</td>\n",
              "    </tr>\n",
              "    <tr>\n",
              "      <th>2</th>\n",
              "      <td>'C2054744914'</td>\n",
              "      <td>'4'</td>\n",
              "      <td>'F'</td>\n",
              "      <td>'M1823072687'</td>\n",
              "      <td>'es_transportation'</td>\n",
              "      <td>26.89</td>\n",
              "      <td>0</td>\n",
              "    </tr>\n",
              "    <tr>\n",
              "      <th>3</th>\n",
              "      <td>'C1760612790'</td>\n",
              "      <td>'3'</td>\n",
              "      <td>'M'</td>\n",
              "      <td>'M348934600'</td>\n",
              "      <td>'es_transportation'</td>\n",
              "      <td>17.25</td>\n",
              "      <td>0</td>\n",
              "    </tr>\n",
              "    <tr>\n",
              "      <th>4</th>\n",
              "      <td>'C757503768'</td>\n",
              "      <td>'5'</td>\n",
              "      <td>'M'</td>\n",
              "      <td>'M348934600'</td>\n",
              "      <td>'es_transportation'</td>\n",
              "      <td>35.72</td>\n",
              "      <td>0</td>\n",
              "    </tr>\n",
              "  </tbody>\n",
              "</table>\n",
              "</div>\n",
              "      <button class=\"colab-df-convert\" onclick=\"convertToInteractive('df-81ca8a37-db0d-47e2-adba-49a676d6e421')\"\n",
              "              title=\"Convert this dataframe to an interactive table.\"\n",
              "              style=\"display:none;\">\n",
              "        \n",
              "  <svg xmlns=\"http://www.w3.org/2000/svg\" height=\"24px\"viewBox=\"0 0 24 24\"\n",
              "       width=\"24px\">\n",
              "    <path d=\"M0 0h24v24H0V0z\" fill=\"none\"/>\n",
              "    <path d=\"M18.56 5.44l.94 2.06.94-2.06 2.06-.94-2.06-.94-.94-2.06-.94 2.06-2.06.94zm-11 1L8.5 8.5l.94-2.06 2.06-.94-2.06-.94L8.5 2.5l-.94 2.06-2.06.94zm10 10l.94 2.06.94-2.06 2.06-.94-2.06-.94-.94-2.06-.94 2.06-2.06.94z\"/><path d=\"M17.41 7.96l-1.37-1.37c-.4-.4-.92-.59-1.43-.59-.52 0-1.04.2-1.43.59L10.3 9.45l-7.72 7.72c-.78.78-.78 2.05 0 2.83L4 21.41c.39.39.9.59 1.41.59.51 0 1.02-.2 1.41-.59l7.78-7.78 2.81-2.81c.8-.78.8-2.07 0-2.86zM5.41 20L4 18.59l7.72-7.72 1.47 1.35L5.41 20z\"/>\n",
              "  </svg>\n",
              "      </button>\n",
              "      \n",
              "  <style>\n",
              "    .colab-df-container {\n",
              "      display:flex;\n",
              "      flex-wrap:wrap;\n",
              "      gap: 12px;\n",
              "    }\n",
              "\n",
              "    .colab-df-convert {\n",
              "      background-color: #E8F0FE;\n",
              "      border: none;\n",
              "      border-radius: 50%;\n",
              "      cursor: pointer;\n",
              "      display: none;\n",
              "      fill: #1967D2;\n",
              "      height: 32px;\n",
              "      padding: 0 0 0 0;\n",
              "      width: 32px;\n",
              "    }\n",
              "\n",
              "    .colab-df-convert:hover {\n",
              "      background-color: #E2EBFA;\n",
              "      box-shadow: 0px 1px 2px rgba(60, 64, 67, 0.3), 0px 1px 3px 1px rgba(60, 64, 67, 0.15);\n",
              "      fill: #174EA6;\n",
              "    }\n",
              "\n",
              "    [theme=dark] .colab-df-convert {\n",
              "      background-color: #3B4455;\n",
              "      fill: #D2E3FC;\n",
              "    }\n",
              "\n",
              "    [theme=dark] .colab-df-convert:hover {\n",
              "      background-color: #434B5C;\n",
              "      box-shadow: 0px 1px 3px 1px rgba(0, 0, 0, 0.15);\n",
              "      filter: drop-shadow(0px 1px 2px rgba(0, 0, 0, 0.3));\n",
              "      fill: #FFFFFF;\n",
              "    }\n",
              "  </style>\n",
              "\n",
              "      <script>\n",
              "        const buttonEl =\n",
              "          document.querySelector('#df-81ca8a37-db0d-47e2-adba-49a676d6e421 button.colab-df-convert');\n",
              "        buttonEl.style.display =\n",
              "          google.colab.kernel.accessAllowed ? 'block' : 'none';\n",
              "\n",
              "        async function convertToInteractive(key) {\n",
              "          const element = document.querySelector('#df-81ca8a37-db0d-47e2-adba-49a676d6e421');\n",
              "          const dataTable =\n",
              "            await google.colab.kernel.invokeFunction('convertToInteractive',\n",
              "                                                     [key], {});\n",
              "          if (!dataTable) return;\n",
              "\n",
              "          const docLinkHtml = 'Like what you see? Visit the ' +\n",
              "            '<a target=\"_blank\" href=https://colab.research.google.com/notebooks/data_table.ipynb>data table notebook</a>'\n",
              "            + ' to learn more about interactive tables.';\n",
              "          element.innerHTML = '';\n",
              "          dataTable['output_type'] = 'display_data';\n",
              "          await google.colab.output.renderOutput(dataTable, element);\n",
              "          const docLink = document.createElement('div');\n",
              "          docLink.innerHTML = docLinkHtml;\n",
              "          element.appendChild(docLink);\n",
              "        }\n",
              "      </script>\n",
              "    </div>\n",
              "  </div>\n",
              "  "
            ],
            "text/plain": [
              "        customer  age gender       merchant             category  amount  \\\n",
              "0  'C1093826151'  '4'    'M'   'M348934600'  'es_transportation'    4.55   \n",
              "1   'C352968107'  '2'    'M'   'M348934600'  'es_transportation'   39.68   \n",
              "2  'C2054744914'  '4'    'F'  'M1823072687'  'es_transportation'   26.89   \n",
              "3  'C1760612790'  '3'    'M'   'M348934600'  'es_transportation'   17.25   \n",
              "4   'C757503768'  '5'    'M'   'M348934600'  'es_transportation'   35.72   \n",
              "\n",
              "   fraud  \n",
              "0      0  \n",
              "1      0  \n",
              "2      0  \n",
              "3      0  \n",
              "4      0  "
            ]
          },
          "execution_count": 8,
          "metadata": {},
          "output_type": "execute_result"
        }
      ],
      "source": [
        "#making a copy of the original untouched dataset if needed\n",
        "bf_copy = bf.copy()\n",
        "\n",
        "#dropping unnecessary features\n",
        "bf.drop(['step', 'zipcodeOri', 'zipMerchant'], axis=1, inplace=True)\n",
        "\n",
        "bf.head()"
      ]
    },
    {
      "cell_type": "markdown",
      "metadata": {
        "id": "n-kaDLo65ob_"
      },
      "source": [
        "If you see above we have all our categorical data wrapped with quotations. We will clean the data by removing the ' ' characters."
      ]
    },
    {
      "cell_type": "code",
      "execution_count": null,
      "metadata": {
        "colab": {
          "base_uri": "https://localhost:8080/"
        },
        "id": "A0-uMWMU5ob_",
        "outputId": "079546ac-e709-4603-c71a-6214bc537104"
      },
      "outputs": [
        {
          "data": {
            "text/html": [
              "\n",
              "  <div id=\"df-f3f60bef-b38e-4055-86c5-fae82844b430\">\n",
              "    <div class=\"colab-df-container\">\n",
              "      <div>\n",
              "<style scoped>\n",
              "    .dataframe tbody tr th:only-of-type {\n",
              "        vertical-align: middle;\n",
              "    }\n",
              "\n",
              "    .dataframe tbody tr th {\n",
              "        vertical-align: top;\n",
              "    }\n",
              "\n",
              "    .dataframe thead th {\n",
              "        text-align: right;\n",
              "    }\n",
              "</style>\n",
              "<table border=\"1\" class=\"dataframe\">\n",
              "  <thead>\n",
              "    <tr style=\"text-align: right;\">\n",
              "      <th></th>\n",
              "      <th>customer</th>\n",
              "      <th>age</th>\n",
              "      <th>gender</th>\n",
              "      <th>merchant</th>\n",
              "      <th>category</th>\n",
              "      <th>amount</th>\n",
              "      <th>fraud</th>\n",
              "    </tr>\n",
              "  </thead>\n",
              "  <tbody>\n",
              "    <tr>\n",
              "      <th>0</th>\n",
              "      <td>C1093826151</td>\n",
              "      <td>4</td>\n",
              "      <td>M</td>\n",
              "      <td>M348934600</td>\n",
              "      <td>es_transportation</td>\n",
              "      <td>4.55</td>\n",
              "      <td>0</td>\n",
              "    </tr>\n",
              "    <tr>\n",
              "      <th>1</th>\n",
              "      <td>C352968107</td>\n",
              "      <td>2</td>\n",
              "      <td>M</td>\n",
              "      <td>M348934600</td>\n",
              "      <td>es_transportation</td>\n",
              "      <td>39.68</td>\n",
              "      <td>0</td>\n",
              "    </tr>\n",
              "    <tr>\n",
              "      <th>2</th>\n",
              "      <td>C2054744914</td>\n",
              "      <td>4</td>\n",
              "      <td>F</td>\n",
              "      <td>M1823072687</td>\n",
              "      <td>es_transportation</td>\n",
              "      <td>26.89</td>\n",
              "      <td>0</td>\n",
              "    </tr>\n",
              "    <tr>\n",
              "      <th>3</th>\n",
              "      <td>C1760612790</td>\n",
              "      <td>3</td>\n",
              "      <td>M</td>\n",
              "      <td>M348934600</td>\n",
              "      <td>es_transportation</td>\n",
              "      <td>17.25</td>\n",
              "      <td>0</td>\n",
              "    </tr>\n",
              "    <tr>\n",
              "      <th>4</th>\n",
              "      <td>C757503768</td>\n",
              "      <td>5</td>\n",
              "      <td>M</td>\n",
              "      <td>M348934600</td>\n",
              "      <td>es_transportation</td>\n",
              "      <td>35.72</td>\n",
              "      <td>0</td>\n",
              "    </tr>\n",
              "  </tbody>\n",
              "</table>\n",
              "</div>\n",
              "      <button class=\"colab-df-convert\" onclick=\"convertToInteractive('df-f3f60bef-b38e-4055-86c5-fae82844b430')\"\n",
              "              title=\"Convert this dataframe to an interactive table.\"\n",
              "              style=\"display:none;\">\n",
              "        \n",
              "  <svg xmlns=\"http://www.w3.org/2000/svg\" height=\"24px\"viewBox=\"0 0 24 24\"\n",
              "       width=\"24px\">\n",
              "    <path d=\"M0 0h24v24H0V0z\" fill=\"none\"/>\n",
              "    <path d=\"M18.56 5.44l.94 2.06.94-2.06 2.06-.94-2.06-.94-.94-2.06-.94 2.06-2.06.94zm-11 1L8.5 8.5l.94-2.06 2.06-.94-2.06-.94L8.5 2.5l-.94 2.06-2.06.94zm10 10l.94 2.06.94-2.06 2.06-.94-2.06-.94-.94-2.06-.94 2.06-2.06.94z\"/><path d=\"M17.41 7.96l-1.37-1.37c-.4-.4-.92-.59-1.43-.59-.52 0-1.04.2-1.43.59L10.3 9.45l-7.72 7.72c-.78.78-.78 2.05 0 2.83L4 21.41c.39.39.9.59 1.41.59.51 0 1.02-.2 1.41-.59l7.78-7.78 2.81-2.81c.8-.78.8-2.07 0-2.86zM5.41 20L4 18.59l7.72-7.72 1.47 1.35L5.41 20z\"/>\n",
              "  </svg>\n",
              "      </button>\n",
              "      \n",
              "  <style>\n",
              "    .colab-df-container {\n",
              "      display:flex;\n",
              "      flex-wrap:wrap;\n",
              "      gap: 12px;\n",
              "    }\n",
              "\n",
              "    .colab-df-convert {\n",
              "      background-color: #E8F0FE;\n",
              "      border: none;\n",
              "      border-radius: 50%;\n",
              "      cursor: pointer;\n",
              "      display: none;\n",
              "      fill: #1967D2;\n",
              "      height: 32px;\n",
              "      padding: 0 0 0 0;\n",
              "      width: 32px;\n",
              "    }\n",
              "\n",
              "    .colab-df-convert:hover {\n",
              "      background-color: #E2EBFA;\n",
              "      box-shadow: 0px 1px 2px rgba(60, 64, 67, 0.3), 0px 1px 3px 1px rgba(60, 64, 67, 0.15);\n",
              "      fill: #174EA6;\n",
              "    }\n",
              "\n",
              "    [theme=dark] .colab-df-convert {\n",
              "      background-color: #3B4455;\n",
              "      fill: #D2E3FC;\n",
              "    }\n",
              "\n",
              "    [theme=dark] .colab-df-convert:hover {\n",
              "      background-color: #434B5C;\n",
              "      box-shadow: 0px 1px 3px 1px rgba(0, 0, 0, 0.15);\n",
              "      filter: drop-shadow(0px 1px 2px rgba(0, 0, 0, 0.3));\n",
              "      fill: #FFFFFF;\n",
              "    }\n",
              "  </style>\n",
              "\n",
              "      <script>\n",
              "        const buttonEl =\n",
              "          document.querySelector('#df-f3f60bef-b38e-4055-86c5-fae82844b430 button.colab-df-convert');\n",
              "        buttonEl.style.display =\n",
              "          google.colab.kernel.accessAllowed ? 'block' : 'none';\n",
              "\n",
              "        async function convertToInteractive(key) {\n",
              "          const element = document.querySelector('#df-f3f60bef-b38e-4055-86c5-fae82844b430');\n",
              "          const dataTable =\n",
              "            await google.colab.kernel.invokeFunction('convertToInteractive',\n",
              "                                                     [key], {});\n",
              "          if (!dataTable) return;\n",
              "\n",
              "          const docLinkHtml = 'Like what you see? Visit the ' +\n",
              "            '<a target=\"_blank\" href=https://colab.research.google.com/notebooks/data_table.ipynb>data table notebook</a>'\n",
              "            + ' to learn more about interactive tables.';\n",
              "          element.innerHTML = '';\n",
              "          dataTable['output_type'] = 'display_data';\n",
              "          await google.colab.output.renderOutput(dataTable, element);\n",
              "          const docLink = document.createElement('div');\n",
              "          docLink.innerHTML = docLinkHtml;\n",
              "          element.appendChild(docLink);\n",
              "        }\n",
              "      </script>\n",
              "    </div>\n",
              "  </div>\n",
              "  "
            ],
            "text/plain": [
              "      customer age gender     merchant           category  amount  fraud\n",
              "0  C1093826151   4      M   M348934600  es_transportation    4.55      0\n",
              "1   C352968107   2      M   M348934600  es_transportation   39.68      0\n",
              "2  C2054744914   4      F  M1823072687  es_transportation   26.89      0\n",
              "3  C1760612790   3      M   M348934600  es_transportation   17.25      0\n",
              "4   C757503768   5      M   M348934600  es_transportation   35.72      0"
            ]
          },
          "execution_count": 9,
          "metadata": {},
          "output_type": "execute_result"
        }
      ],
      "source": [
        "remove_columns = ['customer', 'age', 'gender','merchant','category']\n",
        "# Apply the lambda function to all string columns in the DataFrame\n",
        "bf[remove_columns] = bf[remove_columns].applymap(lambda x: x.replace(\"'\", \"\"))\n",
        "\n",
        "bf.head()"
      ]
    },
    {
      "cell_type": "markdown",
      "metadata": {
        "id": "Ag1QX4Mn5ocA"
      },
      "source": [
        "We will also remove the 'Unknown' class 'U' from our age feature, as stated above. "
      ]
    },
    {
      "cell_type": "code",
      "execution_count": null,
      "metadata": {
        "colab": {
          "base_uri": "https://localhost:8080/"
        },
        "id": "CoEdkvXZ5ocA",
        "outputId": "30013adb-db6a-4e3c-a782-912ca70992fe"
      },
      "outputs": [
        {
          "name": "stdout",
          "output_type": "stream",
          "text": [
            "before:  Index(['0', '1', '2', '3', '4', '5', '6', 'U'], dtype='object')\n",
            "after:  Index(['0', '1', '2', '3', '4', '5', '6'], dtype='object')\n"
          ]
        }
      ],
      "source": [
        "bf['age'] = bf['age'].astype('category')\n",
        "print(\"before: \",bf['age'].cat.categories)\n",
        "bf['age'] = bf['age'].cat.remove_categories('U')\n",
        "print(\"after: \", bf['age'].cat.categories)"
      ]
    },
    {
      "cell_type": "markdown",
      "metadata": {
        "id": "EEPDTINW5ocB"
      },
      "source": [
        "Splitting our data into training, validation and testing datasets. While stratifying y to maintain balance."
      ]
    },
    {
      "cell_type": "code",
      "execution_count": null,
      "metadata": {
        "id": "UgL1JZ7t5ocB"
      },
      "outputs": [],
      "source": [
        "from sklearn.model_selection import train_test_split\n",
        "\n",
        "#splitting target column from dataset\n",
        "X = bf.copy()\n",
        "y = X.pop('fraud').to_numpy() #the label\n",
        "\n",
        "#splitting 10% validation set and 10% test set as required by the specifications\n",
        "#As mentioned before we are dealing with an unbalanced data set, so we are stratifying our target label\n",
        "X_train, X_test, y_train, y_test = train_test_split(X, y, test_size=0.1, random_state=42, stratify=y)\n",
        "X_train, X_val, y_train, y_val = train_test_split(X_train, y_train, test_size=0.1/(1-0.1), random_state=42, stratify=y_train)\n",
        "\n"
      ]
    },
    {
      "cell_type": "markdown",
      "metadata": {
        "id": "KG2JyY3l5ocB"
      },
      "source": [
        "All categorical variables must be encoded, and numerical normalized\n",
        "\n",
        "Neural networks are sensitive to inputs and hence to ensure consistent data through the layers this step is essential."
      ]
    },
    {
      "cell_type": "code",
      "execution_count": null,
      "metadata": {
        "colab": {
          "base_uri": "https://localhost:8080/"
        },
        "id": "bcqxD4fd5ocB",
        "outputId": "3ef31ea0-61bc-4b11-fdbb-4a69d35f5ec0"
      },
      "outputs": [
        {
          "data": {
            "text/plain": [
              "((475713, 4190), (475713, 6))"
            ]
          },
          "execution_count": 12,
          "metadata": {},
          "output_type": "execute_result"
        }
      ],
      "source": [
        "#import pre-processing tools\n",
        "from sklearn.preprocessing import (OneHotEncoder, \n",
        "                                   StandardScaler)\n",
        "\n",
        "from sklearn.compose import ColumnTransformer \n",
        "\n",
        "\n",
        "#No need for a label encoder for our target as it is already in binary form. \n",
        "# we need to one hot encode customer, age, gender, merchant, and category\n",
        "    \n",
        "\n",
        "#For categorical variables\n",
        "ohe = OneHotEncoder(drop='if_binary', handle_unknown='ignore')\n",
        "std = StandardScaler()\n",
        "\n",
        "#encode all columns except amount\n",
        "cat_col = X_train.select_dtypes(include=['object', 'category']).columns\n",
        "num_col = X_train.drop(columns=cat_col).columns\n",
        "\n",
        "\n",
        "ct = ColumnTransformer([('cat', ohe, cat_col),\n",
        "                        ('num', std, num_col)])\n",
        "\n",
        "X_train_t = ct.fit_transform(X_train)\n",
        "X_val_t = ct.transform(X_val)\n",
        "X_test_t = ct.transform(X_test)\n",
        "\n",
        "X_train_t.shape, X_train.shape\n",
        "\n",
        "\n"
      ]
    },
    {
      "cell_type": "markdown",
      "metadata": {
        "id": "nwXRtQsq5ocC"
      },
      "source": [
        "As you can see with the difference between the original dataset and the encoded dataset we thousands of more features, which will require a neural network.\n",
        "\n",
        "Pre-processing is complete we can proceed with building our model.\n",
        "\n",
        "\n",
        "<br>\n",
        "<hr>\n",
        "\n"
      ]
    },
    {
      "cell_type": "markdown",
      "metadata": {
        "id": "sLonZCzH5ocC"
      },
      "source": [
        "# Step 2: Building the Neural Network"
      ]
    },
    {
      "cell_type": "markdown",
      "metadata": {
        "id": "FhhKolqr5ocC"
      },
      "source": [
        "### We can proceed to build a neural network on the training data using TensorFlow/Keras.\n"
      ]
    },
    {
      "cell_type": "markdown",
      "metadata": {
        "id": "MEc3e2Fe5ocD"
      },
      "source": [
        "There are many decisions to be made when designing a Neural Network, we will explain why we believe the chosen parameters are the best to tackle the problem. \n",
        "\n",
        "***Activation Function***: The chosen activation function is SELU, for us this was a straightforward choice as it deals with the vanishing-exploding gradient problem, and performs better than RELU. SELU known to be constraint heavy, but our model fits the requirements, we are dealing with a Sequential Model, have normalized our data, and are making sure to use leCun activation for weights initialization of each layer. \n",
        "\n",
        "***Output Function***: This is a no-brainer, we have a binary classification problem, our output function is a sigmoid function. \n",
        "\n",
        "***Controlling Overfitting***: We decided to control overfitting by using Early Stopping. Not only is this an efficient Regularization technique, it will save us time as we explore different architectures for our model. We have decided to monitor validation loss, with a patience of 3. If the validation loss does not improve in 3 epochs we stop the training and restore the best weights.\n",
        "\n",
        "***Optimizer***: For the optimizer we will use the default AdamW with a varying learning rate.\n",
        "\n",
        "***Hyperparameter Tuning***: To tune the learning rate we have decided to implement a learning scheduler in our model. We have a starting learning rate of 0.05, that will be halved every time until epoch 6, after this we implement an exponential decay to the learning rate.\n",
        "\n",
        "***Model Architecture***: For our model architecture we implemented many different configurations. We found that adding anything more than 2 dense layers would make our problem overlycomplex and before badly. Additionally due to the large amount of features of the transformed data set, we found the need of having stacked hidden layers with 1024 neurons each. We found using a binary number to increase the performance of our model. "
      ]
    },
    {
      "cell_type": "markdown",
      "metadata": {
        "id": "pmEwJfM85ocD"
      },
      "source": [
        "The accuracy metric may not be appropriate for imbalanced datasets such as this one.  we may use precision, recall, and F1 score that take into account the imbalance between the classes."
      ]
    },
    {
      "cell_type": "code",
      "execution_count": null,
      "metadata": {
        "colab": {
          "base_uri": "https://localhost:8080/"
        },
        "id": "veHnEFDZ5ocD",
        "outputId": "062052f7-bc04-44f4-aae8-4a56cd1513db"
      },
      "outputs": [
        {
          "name": "stdout",
          "output_type": "stream",
          "text": [
            "Epoch 1/15\n",
            "14867/14867 [==============================] - 120s 8ms/step - loss: 0.5057 - accuracy: 0.8928 - precision: 0.5996 - recall: 0.6023 - auc: 0.8225 - val_loss: 1.3849 - val_accuracy: 0.9538 - val_precision: 0.2415 - val_recall: 0.9819 - val_auc: 0.9730 - lr: 0.0250\n",
            "Epoch 2/15\n",
            "14867/14867 [==============================] - 108s 7ms/step - loss: 0.2945 - accuracy: 0.9083 - precision: 0.7248 - recall: 0.7253 - auc: 0.8800 - val_loss: 0.1325 - val_accuracy: 0.9398 - val_precision: 0.8958 - val_recall: 0.7639 - val_auc: 0.8925 - lr: 0.0125\n",
            "Epoch 3/15\n",
            "14867/14867 [==============================] - 109s 7ms/step - loss: 0.0744 - accuracy: 0.8585 - precision: 0.7701 - recall: 0.7670 - auc: 0.9113 - val_loss: 0.0579 - val_accuracy: 0.8693 - val_precision: 0.9553 - val_recall: 0.6833 - val_auc: 0.9100 - lr: 0.0063\n",
            "Epoch 4/15\n",
            "14867/14867 [==============================] - 112s 7ms/step - loss: 0.0362 - accuracy: 0.7551 - precision: 0.8105 - recall: 0.8021 - auc: 0.9404 - val_loss: 0.0382 - val_accuracy: 0.9284 - val_precision: 0.7220 - val_recall: 0.9056 - val_auc: 0.9706 - lr: 0.0031\n",
            "Epoch 5/15\n",
            "14867/14867 [==============================] - 108s 7ms/step - loss: 0.0182 - accuracy: 0.8921 - precision: 0.8362 - recall: 0.8233 - auc: 0.9666 - val_loss: 0.0667 - val_accuracy: 0.8275 - val_precision: 0.3775 - val_recall: 0.9736 - val_auc: 0.9965 - lr: 0.0016\n",
            "Epoch 6/15\n",
            "14867/14867 [==============================] - 107s 7ms/step - loss: 0.0110 - accuracy: 0.7193 - precision: 0.8702 - recall: 0.8439 - auc: 0.9863 - val_loss: 0.0150 - val_accuracy: 0.6759 - val_precision: 0.8891 - val_recall: 0.7903 - val_auc: 0.9639 - lr: 7.8125e-04\n",
            "Epoch 7/15\n",
            "14867/14867 [==============================] - 111s 7ms/step - loss: 0.0083 - accuracy: 0.4414 - precision: 0.8807 - recall: 0.8552 - auc: 0.9931 - val_loss: 0.0121 - val_accuracy: 0.3212 - val_precision: 0.8372 - val_recall: 0.8500 - val_auc: 0.9787 - lr: 3.9063e-04\n",
            "Epoch 8/15\n",
            "14867/14867 [==============================] - 108s 7ms/step - loss: 0.0079 - accuracy: 0.1516 - precision: 0.8865 - recall: 0.8554 - auc: 0.9938 - val_loss: 0.0121 - val_accuracy: 0.0126 - val_precision: 0.8110 - val_recall: 0.8583 - val_auc: 0.9841 - lr: 3.5345e-04\n",
            "Epoch 9/15\n",
            "14867/14867 [==============================] - 107s 7ms/step - loss: 0.0075 - accuracy: 0.0152 - precision: 0.8870 - recall: 0.8616 - auc: 0.9954 - val_loss: 0.0142 - val_accuracy: 0.0136 - val_precision: 0.9214 - val_recall: 0.7486 - val_auc: 0.9693 - lr: 3.1982e-04\n",
            "Epoch 10/15\n",
            "14867/14867 [==============================] - 107s 7ms/step - loss: 0.0073 - accuracy: 0.0082 - precision: 0.8928 - recall: 0.8601 - auc: 0.9950 - val_loss: 0.0126 - val_accuracy: 0.0054 - val_precision: 0.8471 - val_recall: 0.8236 - val_auc: 0.9761 - lr: 2.8938e-04\n"
          ]
        }
      ],
      "source": [
        "from keras.models import Sequential\n",
        "from keras.layers import Dense, Dropout\n",
        "from keras.layers import Dense, Activation\n",
        "from keras.initializers import lecun_normal\n",
        "from keras.callbacks import EarlyStopping, LearningRateScheduler\n",
        "from keras.metrics import Accuracy, Precision, Recall, AUC\n",
        "\n",
        "\n",
        "\n",
        "\n",
        "def reset_seeds():\n",
        "    os.environ['PYTHONHASHSEED']=str(2)\n",
        "    tf.random.set_seed(2)\n",
        "    np.random.seed(2)\n",
        "    random.seed(2)\n",
        "\n",
        "tf.keras.backend.clear_session()\n",
        "reset_seeds()\n",
        "\n",
        "\n",
        "\n",
        "# Architecture\n",
        "\n",
        "inputs = tf.keras.Input((X_train_t.shape[1],))\n",
        "\n",
        "dense_1 = tf.keras.layers.Dense(1024, kernel_initializer=lecun_normal(), activation='selu')(inputs)\n",
        "\n",
        "dense_2 = tf.keras.layers.Dense(1024, kernel_initializer=lecun_normal(), activation='selu')(dense_1)\n",
        "\n",
        "outputs = tf.keras.layers.Dense(1, activation='sigmoid')(dense_2)\n",
        "\n",
        "bench_model = tf.keras.Model(inputs=inputs, outputs=outputs)\n",
        "\n",
        "# Compiling\n",
        "#change optimizer to adamW\n",
        "bench_model.compile(optimizer=tf.keras.optimizers.experimental.AdamW(0.05), #default lr is 0.001\n",
        "                    loss=tf.keras.losses.BinaryCrossentropy(),\n",
        "                    metrics=[Accuracy(), Precision(), Recall(), AUC()])\n",
        "\n",
        "#Function for our learning rate tuning, half until epoch 6 and then apply exponential decay\n",
        "def scheduler(epoch, lr):\n",
        "  if epoch < 6:\n",
        "    return lr/2\n",
        "  else:\n",
        "    return lr * tf.math.exp(-0.1)\n",
        "\n",
        "#Hyperparameter control (learning rate) using a Learning Scheduler\n",
        "lr_schedule = LearningRateScheduler(scheduler)\n",
        "\n",
        "## overfitting tools - early stopping\n",
        "early_stopping = tf.keras.callbacks.EarlyStopping(patience=3, monitor='val_loss', restore_best_weights=True)\n",
        "\n",
        "\n",
        "# Training\n",
        "epochs = 15\n",
        "batch_size = 32\n",
        "bench_history = bench_model.fit(X_train_t, y_train,\n",
        "                                epochs=epochs,\n",
        "                                batch_size=batch_size,\n",
        "                                validation_data=(X_val_t, y_val), callbacks=[lr_schedule, early_stopping])"
      ]
    },
    {
      "cell_type": "markdown",
      "metadata": {
        "id": "n5HY6Devl9RC"
      },
      "source": [
        "# Step 3: Evaluating the Model"
      ]
    },
    {
      "cell_type": "code",
      "execution_count": null,
      "metadata": {
        "id": "qlMEZK2B1bru"
      },
      "outputs": [],
      "source": [
        "from keras.utils.vis_utils import plot_model\n",
        "\n",
        "\n",
        "plot_model(bench_model,to_file= 'model_plot.png',show_shapes=True,show_layer_names=True)"
      ]
    },
    {
      "cell_type": "markdown",
      "metadata": {
        "id": "3Uet4nbH1fF5"
      },
      "source": [
        "![image.png](data:image/png;base64,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)"
      ]
    },
    {
      "cell_type": "code",
      "execution_count": null,
      "metadata": {
        "colab": {
          "base_uri": "https://localhost:8080/",
          "height": 555
        },
        "id": "2_l1i9Mm5ocE",
        "outputId": "dbee056e-53b1-4f53-ce96-a6576c9a5509"
      },
      "outputs": [
        {
          "name": "stdout",
          "output_type": "stream",
          "text": [
            "{'loss': [0.5056654810905457, 0.29451632499694824, 0.07438020408153534, 0.0362212099134922, 0.018227800726890564, 0.010997315868735313, 0.00832892395555973, 0.007884468883275986, 0.007493716198951006, 0.00725776981562376], 'accuracy': [0.8928345441818237, 0.9082682132720947, 0.8584503531455994, 0.7551443576812744, 0.8920504450798035, 0.71928870677948, 0.44140270352363586, 0.15157458186149597, 0.015198239125311375, 0.008172995410859585], 'precision': [0.5995506644248962, 0.7248438596725464, 0.7700889110565186, 0.8105263113975525, 0.8361840844154358, 0.8702112436294556, 0.8807438015937805, 0.8864699602127075, 0.8870419859886169, 0.892773449420929], 'recall': [0.6022569537162781, 0.7253472208976746, 0.7670139074325562, 0.8020833134651184, 0.8232638835906982, 0.8439236283302307, 0.8552083373069763, 0.855381965637207, 0.8616319298744202, 0.8600694537162781], 'auc': [0.8224756717681885, 0.8800438046455383, 0.911261796951294, 0.9404454231262207, 0.9666367769241333, 0.9863311648368835, 0.9931276440620422, 0.9937795996665955, 0.9953680634498596, 0.9949843883514404], 'val_loss': [1.3849157094955444, 0.13246864080429077, 0.05792010948061943, 0.03821059688925743, 0.06674143671989441, 0.015013298019766808, 0.012092897668480873, 0.0121218953281641, 0.014204536564648151, 0.012633138336241245], 'val_accuracy': [0.9537879228591919, 0.9398469924926758, 0.8693180680274963, 0.9283780455589294, 0.8274615406990051, 0.6758597493171692, 0.3212309777736664, 0.012612461112439632, 0.013587825000286102, 0.0053981333039700985], 'val_precision': [0.24146175384521484, 0.895765483379364, 0.955339789390564, 0.722037672996521, 0.3774905800819397, 0.8890625238418579, 0.8372092843055725, 0.8110235929489136, 0.9213675260543823, 0.8471428751945496], 'val_recall': [0.9819444417953491, 0.7638888955116272, 0.6833333373069763, 0.9055555462837219, 0.9736111164093018, 0.7902777791023254, 0.8500000238418579, 0.8583333492279053, 0.7486110925674438, 0.8236111402511597], 'val_auc': [0.9729748368263245, 0.8925407528877258, 0.9100411534309387, 0.9706082940101624, 0.9964874982833862, 0.9638668298721313, 0.9787136912345886, 0.9841083884239197, 0.9692591428756714, 0.976067841053009], 'lr': [0.025, 0.0125, 0.00625, 0.003125, 0.0015625, 0.00078125, 0.000390625, 0.0003534521, 0.00031981667, 0.00028938206]}\n",
            "10\n",
            "10\n"
          ]
        },
        {
          "data": {
            "image/png": "[encoded data removed]",
            "text/plain": [
              "<Figure size 1080x576 with 1 Axes>"
            ]
          },
          "metadata": {
            "needs_background": "light"
          },
          "output_type": "display_data"
        }
      ],
      "source": [
        "# Learning Curves\n",
        "bench_loss = bench_history.history\n",
        "\n",
        "print(bench_loss)\n",
        "print(len(bench_loss['loss']))\n",
        "print(len(bench_loss['val_loss']))\n",
        "\n",
        "plt.figure(figsize=(15,8))\n",
        "\n",
        "plt.plot(np.arange(1,len(bench_loss['loss'])+1), bench_loss['loss'], label='Training Loss')\n",
        "plt.plot(np.arange(1,len(bench_loss['loss'])+1), bench_loss['val_loss'], label='Validation Loss')\n",
        "\n",
        "plt.legend(fontsize=16)\n",
        "plt.show()"
      ]
    },
    {
      "cell_type": "code",
      "execution_count": null,
      "metadata": {
        "colab": {
          "base_uri": "https://localhost:8080/"
        },
        "id": "FG5cASHl5ocF",
        "outputId": "025229d6-68a0-457e-93b8-ac84a5dfbc2e"
      },
      "outputs": [
        {
          "name": "stdout",
          "output_type": "stream",
          "text": [
            "1859/1859 [==============================] - 8s 4ms/step - loss: 0.0130 - accuracy: 0.3248 - precision: 0.8356 - recall: 0.8542 - auc: 0.9836\n"
          ]
        },
        {
          "data": {
            "text/plain": [
              "[0.012964734807610512,\n",
              " 0.3248465359210968,\n",
              " 0.835597813129425,\n",
              " 0.8541666865348816,\n",
              " 0.9835756421089172]"
            ]
          },
          "execution_count": 27,
          "metadata": {},
          "output_type": "execute_result"
        }
      ],
      "source": [
        "# we call after the training to evaluate the model\n",
        "loss, accuracy, precision, recall, auc = bench_model.evaluate(X_test_t, y_test)"
      ]
    },
    {
      "cell_type": "markdown",
      "metadata": {
        "id": "DQCuJNvsmL4R"
      },
      "source": [
        "#Step 4: Conclusion "
      ]
    },
    {
      "cell_type": "markdown",
      "metadata": {
        "id": "CSgT2OMCfqa1"
      },
      "source": [
        "Since this is a binary classification problem, focusing on bank fraud. We decided that the desired most performing metrics to be precision, recall, and fscore. As said before our dataset is very unbalanced so accuracy in itself is not a representative metric. \n",
        "\n",
        "Hence we are satisfied by a precision of 0.8356 and a recall of 0.8542, especially considering this dataset does not have a lot of features. \n",
        "\n",
        "We can further evaluate our model by calculating the fscore."
      ]
    },
    {
      "cell_type": "code",
      "execution_count": null,
      "metadata": {
        "colab": {
          "base_uri": "https://localhost:8080/"
        },
        "id": "8W5rjizri0jc",
        "outputId": "236436fe-4825-4f7d-ed1e-77133d213ebe"
      },
      "outputs": [
        {
          "data": {
            "text/plain": [
              "0.844780222875256"
            ]
          },
          "execution_count": 1,
          "metadata": {},
          "output_type": "execute_result"
        }
      ],
      "source": [
        "fscore = 2 * ( (precision*recall) / (precision+recall))\n",
        "\n",
        "fscore"
      ]
    },
    {
      "cell_type": "markdown",
      "metadata": {
        "id": "J4Ku8A6Kh9Cc"
      },
      "source": [
        "With a fscore of 0.8448 with such a highly unbalanced dataset with few features we consider this as a great result and are happy with it. More data and more training would be recommended to improve the model even more, and achieve a performance that would be suitable for production and real-life applications."
      ]
    }
  ],
  "metadata": {
    "accelerator": "GPU",
    "colab": {
      "collapsed_sections": [
        "zL2yL1yb5obz"
      ],
      "provenance": []
    },
    "gpuClass": "standard",
    "kernelspec": {
      "display_name": "base",
      "language": "python",
      "name": "python3"
    },
    "language_info": {
      "codemirror_mode": {
        "name": "ipython",
        "version": 3
      },
      "file_extension": ".py",
      "mimetype": "text/x-python",
      "name": "python",
      "nbconvert_exporter": "python",
      "pygments_lexer": "ipython3",
      "version": "3.10.8"
    },
    "orig_nbformat": 4
  },
  "nbformat": 4,
  "nbformat_minor": 0
}
